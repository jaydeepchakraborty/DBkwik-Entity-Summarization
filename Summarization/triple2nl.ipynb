{
 "cells": [
  {
   "cell_type": "code",
   "execution_count": 1,
   "metadata": {
    "collapsed": false
   },
   "outputs": [],
   "source": [
    "import pandas as pd\n",
    "import numpy as np\n",
    "from SPARQLWrapper import SPARQLWrapper, JSON\n",
    "import nltk, inflect, re, string, os\n",
    "import simplejson as json\n",
    "import nl_helpers\n",
    "import shutil\n",
    "%run nl_helpers"
   ]
  },
  {
   "cell_type": "code",
   "execution_count": 74,
   "metadata": {
    "collapsed": false
   },
   "outputs": [],
   "source": [
    "#########Module-1 : it will read all the test data and will create directory for each test data.\n",
    "##################  In next modules, We will store all the information i.e. triples associated  \n",
    "##################  with it, it's basic info and top k(10) triples (in json format) in these \n",
    "##################  directories.   \n",
    "\n",
    "#reading all the subjects (from sample test file)\n",
    "subj_directory = {}\n",
    "with open('test_subj.dat') as f:\n",
    "    URIs = f.readlines()\n",
    "    for uri in URIs:\n",
    "        directory = 'resources/' + uri.rstrip('\\n').split('/')[-1]\n",
    "        if os.path.exists(directory):\n",
    "            shutil.rmtree(directory)\n",
    "            os.makedirs(directory)\n",
    "            subj_directory[uri.rstrip('\\n')] = directory\n",
    "        else:\n",
    "            os.makedirs(directory)\n",
    "            subj_directory[uri.rstrip('\\n')] = directory\n",
    "\n",
    "#Persists all resources with directory info\n",
    "outfile = open('resource_directory.json', \"w\")\n",
    "outfile.write(json.dumps(subj_directory, indent=4, sort_keys=True))\n",
    "outfile.close()"
   ]
  },
  {
   "cell_type": "code",
   "execution_count": 75,
   "metadata": {
    "collapsed": false
   },
   "outputs": [],
   "source": [
    "#########Module-2 : it will read all the test data and will fetch all the triples associated with it.\n",
    "##################  and save the information in all_triples.json in each corresponding directories.\n",
    "\n",
    "subj_directory = {}\n",
    "with open('resource_directory.json') as f:\n",
    "    subj_directory = json.load(f)\n",
    "\n",
    "for uri, directory in subj_directory.items():\n",
    "    #Fetching all triples for subject(URI)\n",
    "    all_triples = nl_helpers.get_all_triples(uri);\n",
    "    #Persists all triples for subject(URI)\n",
    "    outfile = open(directory+'/all_triples.json', \"w\")\n",
    "    outfile.write(json.dumps(all_triples, indent=4, sort_keys=True))\n",
    "    outfile.close()"
   ]
  },
  {
   "cell_type": "code",
   "execution_count": 76,
   "metadata": {
    "collapsed": false,
    "scrolled": false
   },
   "outputs": [],
   "source": [
    "#########Module-3 : it will read all the test data and will fetch first k triples associated with it.\n",
    "##################  it will also fetch the basic information of the subject \n",
    "##################  and save the information in k_triples.json in each corresponding directories.\n",
    "\n",
    "subj_directory = {}\n",
    "with open('resource_directory.json') as f:\n",
    "    subj_directory = json.load(f)\n",
    "\n",
    "for uri, directory in subj_directory.items():\n",
    "    #Read all triples for subject(URI) from JSON file\n",
    "    all_triples = {}\n",
    "    with open(directory+'/all_triples.json') as f:\n",
    "        all_triples = json.load(f)\n",
    "        #Fetching URI : to fetch basic-info,\n",
    "        subj_basic_info = nl_helpers.get_basic_info(uri)\n",
    "        #Fetching top k triples;all_triples: to fetch predicate-info and object-info, k = 10\n",
    "        pred_info = nl_helpers.get_top_k_triples(subj_basic_info['name'], all_triples , 10);\n",
    "        \n",
    "        subj_info = {\n",
    "        'subj_basic_info': subj_basic_info,\n",
    "        'pred_info': pred_info\n",
    "        } \n",
    "        \n",
    "        #Persists k triples for subject(URI)\n",
    "        outfile = open(directory+'/k_triples.json', \"w\")\n",
    "        outfile.write(json.dumps(subj_info, indent=4, sort_keys=True))\n",
    "        outfile.close()\n",
    "        "
   ]
  },
  {
   "cell_type": "code",
   "execution_count": 77,
   "metadata": {
    "collapsed": false
   },
   "outputs": [
    {
     "name": "stdout",
     "output_type": "stream",
     "text": [
      "Scuderia Ferrari is a formula 1 team, an organisation and a sports team. \n"
     ]
    }
   ],
   "source": [
    "#########Module-4 : it will read all the test data and it's all information from the json file(k_triples.json).\n",
    "##################  from that information it will generate summary and save in each corresponding directories. \n",
    "##################  and save the information in k_triples.json in each corresponding directories.\n",
    "\n",
    "subj_directory = {}\n",
    "with open('resource_directory.json') as f:\n",
    "    subj_directory = json.load(f)\n",
    "\n",
    "for uri, directory in subj_directory.items():\n",
    "    summary = ''\n",
    "\n",
    "    k_triples = {}\n",
    "    with open(directory+'/k_triples.json') as f:\n",
    "        k_triples = json.load(f)\n",
    "\n",
    "    summary = generate_summary(k_triples)\n",
    "    f=open(directory+'/k_triples.dat', \"w+\")\n",
    "    f.write(summary)\n",
    "    f.close()\n",
    "    print(summary)\n",
    "    "
   ]
  }
 ],
 "metadata": {
  "kernelspec": {
   "display_name": "Python 3",
   "language": "python",
   "name": "python3"
  },
  "language_info": {
   "codemirror_mode": {
    "name": "ipython",
    "version": 3
   },
   "file_extension": ".py",
   "mimetype": "text/x-python",
   "name": "python",
   "nbconvert_exporter": "python",
   "pygments_lexer": "ipython3",
   "version": "3.5.1"
  }
 },
 "nbformat": 4,
 "nbformat_minor": 2
}