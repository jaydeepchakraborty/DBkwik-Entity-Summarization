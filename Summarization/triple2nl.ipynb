{
 "cells": [
  {
   "cell_type": "code",
   "execution_count": 12,
   "metadata": {
    "collapsed": true
   },
   "outputs": [],
   "source": [
    "import pandas as pd\n",
    "import numpy as np\n",
    "from SPARQLWrapper import SPARQLWrapper, JSON\n",
    "import nltk, inflect"
   ]
  },
  {
   "cell_type": "code",
   "execution_count": 17,
   "metadata": {
    "collapsed": true
   },
   "outputs": [],
   "source": [
    "# https://pypi.python.org/pypi/inflect\n",
    "p = inflect.engine()\n",
    "URI = 'http://dbkwik.webdatacommons.org/HarryPotter/resource/Harry_Potter'\n",
    "# URI = 'http://dbkwik.webdatacommons.org/Game_of_Thrones_Wik/resource/Daenerys_Targaryen'"
   ]
  },
  {
   "cell_type": "code",
   "execution_count": 31,
   "metadata": {
    "collapsed": true
   },
   "outputs": [],
   "source": [
    "def replace_hyphen_with_space(string):\n",
    "    return string.replace('_', ' ')\n",
    "\n",
    "def combine_conjunctive_sentences(sents):\n",
    "    string = sents[0]\n",
    "    for i in range(1, len(sents)):\n",
    "        if i == len(sents) - 1:\n",
    "            string += ' and ' + sents[i]\n",
    "        else:\n",
    "            string += ', ' + sents[i]        \n",
    "    return string"
   ]
  },
  {
   "cell_type": "code",
   "execution_count": 10,
   "metadata": {
    "scrolled": false
   },
   "outputs": [
    {
     "name": "stdout",
     "output_type": "stream",
     "text": [
      "SELECT (group_concat(?type;separator='|') as ?types) ?name ?gender ?dbr WHERE {        \n",
      "        # Get Types of URI\n",
      "        <http://dbkwik.webdatacommons.org/HarryPotter/resource/Harry_Potter> rdf:type ?type .\n",
      "        FILTER(contains(str(?type), 'http://dbkwik.webdatacommons.org/HarryPotter/ontology')) .\n",
      "        \n",
      "        # Get English label of URI\n",
      "        OPTIONAL { <http://dbkwik.webdatacommons.org/HarryPotter/resource/Harry_Potter> <http://dbkwik.webdatacommons.org/HarryPotter/property/name> ?name . FILTER(lang(?name)='en') . }\n",
      "        OPTIONAL { <http://dbkwik.webdatacommons.org/HarryPotter/resource/Harry_Potter> <http://www.w3.org/2004/02/skos/core#prefLabel> ?name . FILTER(lang(?name)='en') . }\n",
      "                \n",
      "        # Try to get gender\n",
      "        OPTIONAL { <http://dbkwik.webdatacommons.org/HarryPotter/resource/Harry_Potter> <http://dbkwik.webdatacommons.org/HarryPotter/property/gender> ?gender . }\n",
      "        \n",
      "        # Try to get corresponding DBpedia Resource\n",
      "        OPTIONAL { <http://dbkwik.webdatacommons.org/HarryPotter/resource/Harry_Potter> owl:sameAs ?dbr . }\n",
      "    }\n",
      "    \n",
      "{'types': {'type': 'literal', 'value': 'http://dbkwik.webdatacommons.org/HarryPotter/ontology/Actor|http://dbkwik.webdatacommons.org/HarryPotter/ontology/Agent|http://dbkwik.webdatacommons.org/HarryPotter/ontology/Artist|http://dbkwik.webdatacommons.org/HarryPotter/ontology/Person'}, 'name': {'type': 'literal', 'xml:lang': 'en', 'value': 'Harry James Potter'}, 'gender': {'type': 'literal', 'xml:lang': 'en', 'value': 'Male'}, 'dbr': {'type': 'uri', 'value': 'http://dbpedia.org/resource/Harry_Potter'}}\n"
     ]
    }
   ],
   "source": [
    "def get_basic_info(URI):\n",
    "    wiki = URI.split('/')[3]\n",
    "    ontology_namespace = \"http://dbkwik.webdatacommons.org/\" + wiki + \"/ontology\"\n",
    "    property_namespace = \"http://dbkwik.webdatacommons.org/\" + wiki + \"/property\"\n",
    "    \n",
    "    sparql = SPARQLWrapper(\"http://dbkwik.webdatacommons.org/sparql\")\n",
    "    query = (\"\"\"SELECT (group_concat(?type;separator='|') as ?types) ?name ?gender ?dbr WHERE {        \n",
    "        # Get Types of URI\n",
    "        <\"\"\" + URI + \"\"\"> rdf:type ?type .\n",
    "        FILTER(contains(str(?type), '\"\"\" + ontology_namespace + \"\"\"')) .\n",
    "        \n",
    "        # Get English label of URI\n",
    "        OPTIONAL { <\"\"\" + URI + \"\"\"> <\"\"\" + property_namespace + \"\"\"/name> ?name . FILTER(lang(?name)='en') . }\n",
    "        OPTIONAL { <\"\"\" + URI + \"\"\"> <http://www.w3.org/2004/02/skos/core#prefLabel> ?name . FILTER(lang(?name)='en') . }\n",
    "                \n",
    "        # Try to get gender\n",
    "        OPTIONAL { <\"\"\" + URI + \"\"\"> <\"\"\" + property_namespace + \"\"\"/gender> ?gender . }\n",
    "        \n",
    "        # Try to get corresponding DBpedia Resource\n",
    "        OPTIONAL { <\"\"\" + URI + \"\"\"> owl:sameAs ?dbr . }\n",
    "    }\n",
    "    \"\"\")\n",
    "    print(query)\n",
    "    \n",
    "    sparql.setQuery(query)\n",
    "    sparql.setReturnFormat(JSON)\n",
    "    results = sparql.query().convert()\n",
    "    \n",
    "    output = {}\n",
    "    for result in results[\"results\"][\"bindings\"]:\n",
    "        print(result)\n",
    "        output = {\n",
    "            'types': result['types']['value'],            \n",
    "            'dbr': result['dbr']['value']\n",
    "        }\n",
    "        \n",
    "        if 'name'in result:\n",
    "            output['name'] = result['name']['value']\n",
    "        if 'gender' in result:\n",
    "            output['gender'] = result['gender']['value']\n",
    "        break\n",
    "        \n",
    "    return output\n",
    "\n",
    "basic_info = get_basic_info(URI)"
   ]
  },
  {
   "cell_type": "code",
   "execution_count": 11,
   "metadata": {
    "scrolled": false
   },
   "outputs": [
    {
     "name": "stdout",
     "output_type": "stream",
     "text": [
      "SELECT ?predicate (group_concat(distinct ?resource; separator=\"|\") as ?resources) (AVG(?rank) as ?ranks)\n",
      "        WHERE {\n",
      "          {\n",
      "            select ?predicate ?resource ?rank {\n",
      "            <http://dbkwik.webdatacommons.org/HarryPotter/resource/Harry_Potter> ?predicate ?resource .\n",
      "            ?resource <http://purl.org/voc/vrank#pagerank> ?rank .\n",
      "            }\n",
      "          }\n",
      "          UNION\n",
      "          {\n",
      "            select ?predicate ?resource ?rank {\n",
      "            ?resource ?predicate <http://dbkwik.webdatacommons.org/HarryPotter/resource/Harry_Potter> .\n",
      "            ?resource <http://purl.org/voc/vrank#pagerank> ?rank .\n",
      "            }\n",
      "          }\n",
      "\n",
      "          FILTER (?predicate NOT IN (<http://www.w3.org/1999/02/22-rdf-syntax-ns#type>, \n",
      "                <http://purl.org/dc/terms/subject>, \n",
      "                <http://xmlns.com/foaf/0.1/depiction>, \n",
      "                <http://www.w3.org/2002/07/owl#sameAs>, \n",
      "                <http://dbkwik.webdatacommons.org/HarryPotter/ontology/thumbnail>, \n",
      "                <http://dbkwik.webdatacommons.org/HarryPotter/property/predecessor>,\n",
      "                <http://dbkwik.webdatacommons.org/HarryPotter/property/successor>, \n",
      "                <http://xmlns.com/foaf/0.1/isPrimaryTopicOf>, \n",
      "                <http://xmlns.com/foaf/0.1/primaryTopic>)).\n",
      "        } GROUP BY ?predicate ?ranks ORDER BY DESC(?ranks)\n",
      "        LIMIT 10\n",
      "    \n"
     ]
    }
   ],
   "source": [
    "def get_top_k_triples(URI, k):\n",
    "    wiki = URI.split('/')[3]\n",
    "    ontology_namespace = \"http://dbkwik.webdatacommons.org/\" + wiki + \"/ontology\"\n",
    "    property_namespace = \"http://dbkwik.webdatacommons.org/\" + wiki + \"/property\"\n",
    "    \n",
    "    sparql = SPARQLWrapper(\"http://ec2-18-219-186-206.us-east-2.compute.amazonaws.com:3030/dbkwik/query\")\n",
    "    query = (\"\"\"SELECT ?predicate (group_concat(distinct ?resource; separator=\"|\") as ?resources) (AVG(?rank) as ?ranks)\n",
    "        WHERE {\n",
    "          {\n",
    "            select ?predicate ?resource ?rank {\n",
    "            <\"\"\" + URI + \"\"\"> ?predicate ?resource .\n",
    "            ?resource <http://purl.org/voc/vrank#pagerank> ?rank .\n",
    "            }\n",
    "          }\n",
    "          UNION\n",
    "          {\n",
    "            select ?predicate ?resource ?rank {\n",
    "            ?resource ?predicate <\"\"\" + URI + \"\"\"> .\n",
    "            ?resource <http://purl.org/voc/vrank#pagerank> ?rank .\n",
    "            }\n",
    "          }\n",
    "\n",
    "          FILTER (?predicate NOT IN (<http://www.w3.org/1999/02/22-rdf-syntax-ns#type>, \n",
    "                <http://purl.org/dc/terms/subject>, \n",
    "                <http://xmlns.com/foaf/0.1/depiction>, \n",
    "                <http://www.w3.org/2002/07/owl#sameAs>, \n",
    "                <\"\"\" + ontology_namespace + \"\"\"/thumbnail>, \n",
    "                <\"\"\" + property_namespace + \"\"\"/predecessor>,\n",
    "                <\"\"\" + property_namespace + \"\"\"/successor>, \n",
    "                <http://xmlns.com/foaf/0.1/isPrimaryTopicOf>, \n",
    "                <http://xmlns.com/foaf/0.1/primaryTopic>)).\n",
    "        } GROUP BY ?predicate ?ranks ORDER BY DESC(?ranks)\n",
    "        LIMIT \"\"\" + str(k) + \"\"\"\n",
    "    \"\"\")\n",
    "    \n",
    "    print(query)\n",
    "    \n",
    "    sparql.setQuery(query)\n",
    "    sparql.setReturnFormat(JSON)\n",
    "    results = sparql.query().convert()\n",
    "    \n",
    "    output = []\n",
    "    for result in results[\"results\"][\"bindings\"]:\n",
    "        obj = {\n",
    "            'predicate': result['predicate']['value'],\n",
    "            'resources': result['resources']['value'],\n",
    "            'ranks': result['ranks']['value']\n",
    "        }\n",
    "        \n",
    "        output.append(obj)        \n",
    "    return output\n",
    "\n",
    "top_triples = get_top_k_triples(URI, 10)"
   ]
  },
  {
   "cell_type": "code",
   "execution_count": 35,
   "metadata": {},
   "outputs": [],
   "source": [
    "summary = ''\n",
    "pronoun = 'It'\n",
    "\n",
    "if 'types' in basic_info:\n",
    "    types = basic_info['types'].split('|')\n",
    "    summary += basic_info['name'] + ' is '\n",
    "    types_sents = []\n",
    "    for i in range(len(types)):\n",
    "        type = types[i].split('/')[-1].lower()\n",
    "        if type == 'agent': # Ignore Agent\n",
    "            continue\n",
    "        \n",
    "        types_sents.append(p.a(type))\n",
    "    \n",
    "    summary += combine_conjunctive_sentences(types_sents) + '. '\n",
    "\n",
    "if 'gender' in basic_info:\n",
    "    if basic_info['gender'].lower() == 'male':\n",
    "        pronoun = 'He'\n",
    "        summary += 'His gender is male. '\n",
    "    elif basic_info['gender'].lower() == 'female':\n",
    "        pronoun = 'She'\n",
    "        summary += 'Her gender is female. '"
   ]
  },
  {
   "cell_type": "code",
   "execution_count": 38,
   "metadata": {},
   "outputs": [
    {
     "data": {
      "text/plain": [
       "'a Russian Federation'"
      ]
     },
     "execution_count": 38,
     "metadata": {},
     "output_type": "execute_result"
    }
   ],
   "source": [
    "p.a('Russian Federation')"
   ]
  },
  {
   "cell_type": "code",
   "execution_count": null,
   "metadata": {
    "collapsed": true
   },
   "outputs": [],
   "source": []
  }
 ],
 "metadata": {
  "kernelspec": {
   "display_name": "Python 3",
   "language": "python",
   "name": "python3"
  },
  "language_info": {
   "codemirror_mode": {
    "name": "ipython",
    "version": 3
   },
   "file_extension": ".py",
   "mimetype": "text/x-python",
   "name": "python",
   "nbconvert_exporter": "python",
   "pygments_lexer": "ipython3",
   "version": "3.6.2"
  }
 },
 "nbformat": 4,
 "nbformat_minor": 2
}
